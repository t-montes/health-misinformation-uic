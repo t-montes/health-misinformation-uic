{
 "cells": [
  {
   "cell_type": "code",
   "execution_count": 4,
   "metadata": {},
   "outputs": [
    {
     "name": "stderr",
     "output_type": "stream",
     "text": [
      "Processing sources: 100%|██████████| 2/2 [00:00<00:00, 92.84it/s]"
     ]
    },
    {
     "name": "stdout",
     "output_type": "stream",
     "text": [
      "Processing fakenews_article/test...\n",
      "Processing sentence/test...\n"
     ]
    },
    {
     "name": "stderr",
     "output_type": "stream",
     "text": [
      "\n"
     ]
    }
   ],
   "source": [
    "import polars as pl\n",
    "from tqdm import tqdm\n",
    "\n",
    "base = '../data/Med-MMHL/data/{}.csv'\n",
    "sources = ['fakenews_article', 'sentence']  # , 'fakenews_tweet']\n",
    "subsets = ['test'] # , 'train', 'val']\n",
    "subdfs = []\n",
    "\n",
    "for source in tqdm(sources, desc=\"Processing sources\"):\n",
    "    for subset in subsets:\n",
    "        full_source = f\"{source}/{subset}\"\n",
    "        print(f\"Processing {full_source}...\")\n",
    "        subdf = pl.read_csv(base.format(full_source))\n",
    "        subdf = subdf.rename({'': 'id'})\n",
    "        subdf = subdf.with_columns(source=pl.lit(full_source))\n",
    "        # id = prev_id + full_source\n",
    "        subdf = subdf.with_columns(id=subdf['id'].cast(pl.Utf8) + pl.lit('_') + subdf['source'])\n",
    "        subdfs.append(subdf)\n",
    "\n",
    "# Combine all subdfs into a single DataFrame\n",
    "df = pl.concat(subdfs)\n",
    "df.write_csv('../data/processed/medmmhl.csv')"
   ]
  }
 ],
 "metadata": {
  "kernelspec": {
   "display_name": "Python 3",
   "language": "python",
   "name": "python3"
  },
  "language_info": {
   "codemirror_mode": {
    "name": "ipython",
    "version": 3
   },
   "file_extension": ".py",
   "mimetype": "text/x-python",
   "name": "python",
   "nbconvert_exporter": "python",
   "pygments_lexer": "ipython3",
   "version": "3.11.9"
  }
 },
 "nbformat": 4,
 "nbformat_minor": 2
}
